{
 "cells": [
  {
   "cell_type": "markdown",
   "id": "ea013ed8",
   "metadata": {},
   "source": [
    "# Mappe 1 - Arbeidskrav (SOK1003)\n",
    "\n",
    "I dette kurset er det to mappe-innleveringer - disse skjer i grupper på opptil 3 personer. Disse skal leveres inn + en tilhørende 10-15 minutters presentasjon (Godkjent/ikke-godkjent). Dette er den første av de to!\n",
    "* Dere skal levere en besvarelse, hvor én person per gruppe leverer.\n",
    "* Denne innleveringen $\\textbf{skal}$ leveres innen $\\textbf{17.10.2024}$ på Canvas (som pdf), og på GitHub. Når det gjelder GitHub; del repositorie som inkluderer ipynb-fil, eventuelle datasett og vedlegg med 'MarkusAase97' og 'Jonazza'. Kall repositorie for **SOK-1003-eksamen-H24**.\n",
    "* Etter innlevering av mappe 1, skal dere ha en 10-15 minutters presentasjon, hvor dere også får spørsmål og tilbakemeldinger. \n",
    "* I etterkant vil dere få mulighet til å utbedre mappe 1, som skal leveres sammen med utbedret versjon av mappe 2 den $\\textbf{29.11.2024}$, og danner karaktergrunnlaget i SOK-1003."
   ]
  },
  {
   "cell_type": "markdown",
   "id": "133ebe1a",
   "metadata": {},
   "source": [
    "## Innlevering & presentasjon\n",
    "\n",
    "Husk å følge instruksjonene nøye. All kode skal kommenteres, og figurer skal ha tydelig merkede akser. Fin, enkel kode med gode løsninger vil vektlegges.\n",
    "\n",
    "Oppgaven leveres ved å legge den i et GitHub repositorie kalt **SOK-1003-eksamen-H24** som er delt med faglærer (MarkusAase97) og studentassistent (Jonazza).\n",
    "\n",
    "Datoer og tidspunkt for presentasjon, se [her](https://uit-sok-1003-h24.github.io/semesteroppgave.html)."
   ]
  },
  {
   "cell_type": "markdown",
   "id": "c6ef58fe",
   "metadata": {},
   "source": [
    "## Om ChatGPT/Kunstig intelligens (AI)\n",
    "Det er lov å bruke ChatGPT og annen kunstig intelligens, men dialogen med AI må i så fall legges ved. Husk at god og veldokumentert bruk av AI belønnes karaktermessig. Det er lov å starte en ny chat for å få en mer oversiktlig logg, dersom det er mye unødvendig og irrelelevant i den orginale chatten. \n",
    "\n",
    "Ved å legge ved chatten, dokumenterer dere også eventuelle feil som AI gjør. Oppfordrer til å være kritisk til AI, da løsningene ofte kan gi kode som kjører, men ikke nødvendigvis en god kode. I tillegg kan du også risikere å levere noe som er helt galt.  \n",
    "\n",
    "Bruk av AI uten å dokumentere det er langt mer risikabelt. For det første er det  juks, med de konsekvenser det kan medføre om det blir oppdaget. For det andre vil dere hefte ved alle feil som AI gjør. "
   ]
  },
  {
   "cell_type": "markdown",
   "id": "7f6482a2",
   "metadata": {},
   "source": [
    "## Karakter\n",
    "Denne mappen vil inngå som en del av arbeidskravet i SOK-1003, så dere vil få godkjent/ikke godkjent på denne innleveringen. Får dere ikke godkjent, får dere én mulighet til å fikse opp i feil/mangler. Begge mappeinnleveringene må være godkjent for å gå opp til eksamen.\n",
    "\n",
    "Se generelle karakterkrav [her](https://www.uhr.no/_f/p1/i47fd1bbe-ab38-4e5f-bdf2-58bcf015a5ef/vurderingskriterier_bacheloroppgaven_060814_korrigert.pdf).\n",
    "\n",
    "### Presentasjon\n",
    "Dere skal også avlegge en presentasjon av hver mappevurdering, ved å presentere Jupyter-fila og forklare hva dere har gjort, tenkt og refleksjoner. Dette er enda en grunn til at dere ikke blindt kan bruke kunstig intelligens. Her vil dere bli utfordret i $\\textbf{hva}$ og $\\textbf{hvorfor}$ dere har gjort som dere har gjort, samt kommentarer i veien videre mot endelig innlevering."
   ]
  },
  {
   "cell_type": "markdown",
   "id": "c4b52b89",
   "metadata": {},
   "source": [
    "# Oppgave 1\n",
    "\n",
    "1. Les inn filen 'bilparken_ssb.csv' som en dataframe kalt ```df``` ved bruk av biblioteket ```pandas```.\n",
    "2. Sorter datasettet, ```df``` fra oppgave 1.1, basert på variabelen \"personbiler vraket mot pant (i prosent)\" - i stigende rekkefølge (lav til høy).\n",
    "3. Lag et plot som viser bilmerker, og hvor mye personbiler som er vraket mot pant (i prosent).\n",
    "4. Lag et horisontalt bar-plot, som har bilmerker på y-aksen og gjennomsnittlig vrakealder på x-aksen. \n",
    "5. Fra plottet i oppgave 1.4 \n",
    "- Er det en naturlig forklaring på hvorfor noen bilmerker vrakes etter svært kort tid? "
   ]
  },
  {
   "cell_type": "code",
   "execution_count": null,
   "id": "8d71a052",
   "metadata": {},
   "outputs": [],
   "source": []
  },
  {
   "cell_type": "markdown",
   "id": "79b53bef",
   "metadata": {},
   "source": [
    "# Oppgave 2 - Microsoft\n",
    "### Kontekst\n",
    "Du jobber som samfunnsøkonom hos et stort tech-selskap, og har fått i jobb å analysere en av deres store konkurrenter, nemlig Microsoft. I denne oppgaven skal du se nærmere på aksjekursene til konkurrenten deres.\n",
    "\n",
    "### Data\n",
    "$\\textbf{Yahoo finance}$ er er sted for å hente aksjekurser til store selskap (som Microsoft), hvor man kan se verdiene til aksjene for ulike dager ved åpning og lukking av salg.\n",
    "CSV filen ligger vedlagt i oppgaven, men kan også hentes fra Yahoo Finance sin [nettside](https://finance.yahoo.com/quote/MSFT/history/?period1=1628726400&period2=1723449383).\n",
    " \n",
    "Data skal være for Microsoft Corporation (MSFT) fra 12. august 2019 til 9. august 2024.\n"
   ]
  },
  {
   "cell_type": "markdown",
   "id": "5dfc948e",
   "metadata": {},
   "source": [
    "### Oppgaver:\n",
    "\n",
    "1. Les inn 'MSFT.csv' filen vedlagt ved oppgavene. Les inn som en dataframe.\n",
    "2. Vi er interessert i å se på hva 'Close' verdiene for hver dag i datasettet er. Fiks dataframen fra oppgave 4.1 til å kun inneholde dato og lukke-pris.\n",
    "3. Hvilken dataType er kolonnen 'Date'? Sjekk at alle datoene er av samme type (altså, er det 'int', 'str', 'bool' og så videre). \n",
    "\n",
    "Hint: Her vil Python-funksjoner som ```apply``` og ```value_counts()``` være nyttige. Men ikke et krav!\n",
    "\n",
    "4. Skriv en *funksjon* som endrer variabeltypen 'str' om til 'datetime'. \n",
    "```python\n",
    "        # Nødvendige bibliotek for oppgaven.\n",
    "        import datetime\n",
    "```\n",
    "*Anvend så funksjonen på kolonnen 'Date' i dataframen din.* Her skal det være på samme struktur 'år-måned-dag', men dataType skal være $\\textbf{datetime}$.\n",
    "\n",
    "5. Lag et plot av lukke-aksjeprisen (y-akse) og dato (x-akse) i et fint og oversiktlig plott. Husk tittel og aksetitler.\n",
    "\n",
    "6. Lag en funksjon som tar dataframen og et årstall (fra datasettet) som argumenter. Funksjonen skal ha følgende egenskaper:\n",
    "- En funksjon med de nevnte argumentene.\n",
    "- Funksjonen skal ha et plot som output, med tydelige aksenavn.\n",
    "- Tittel i plottet skal korrespondere med året.\n",
    "- Plottet skal vise alle lukke-aksjeprisene for det gitte året, samtidig skal det vise maksverdien for det året. Denne maksverdien skal oppgis i tekst og i selve plottet.\n",
    "- Funksjonen skal være oversiktlig og fin, og fungere for alle årene i datasettet (2019 - 2024).\n",
    "\n",
    "7. Lag en dictionary (```dict```) som inneholder gjennomsnittlig lukkepris av Microsoft aksjen (i vårt datasett), maksverdi, minimumverdi, median og spennet i lukkepris. *Rund av verdiene til to desimaler*."
   ]
  },
  {
   "cell_type": "code",
   "execution_count": null,
   "id": "a6a9f787",
   "metadata": {},
   "outputs": [],
   "source": []
  }
 ],
 "metadata": {
  "kernelspec": {
   "display_name": "myenv",
   "language": "python",
   "name": "python3"
  },
  "language_info": {
   "codemirror_mode": {
    "name": "ipython",
    "version": 3
   },
   "file_extension": ".py",
   "mimetype": "text/x-python",
   "name": "python",
   "nbconvert_exporter": "python",
   "pygments_lexer": "ipython3",
   "version": "3.12.3"
  }
 },
 "nbformat": 4,
 "nbformat_minor": 5
}
